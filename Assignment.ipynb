{
 "cells": [
  {
   "cell_type": "code",
   "execution_count": null,
   "id": "dcfe285e-0c4e-4666-9f1a-a392a6337889",
   "metadata": {},
   "outputs": [
    {
     "ename": "",
     "evalue": "",
     "output_type": "error",
     "traceback": [
      "\u001b[1;31mRunning cells with 'c:\\Users\\Asus\\Desktop\\A2 Creations\\env\\python.exe' requires the ipykernel package.\n",
      "\u001b[1;31mRun the following command to install 'ipykernel' into the Python environment. \n",
      "\u001b[1;31mCommand: 'conda install -p c:\\Users\\Asus\\Desktop\\A2 Creations\\env ipykernel --update-deps --force-reinstall'"
     ]
    }
   ],
   "source": [
    "import pandas as pd\n",
    "from googletrans import Translator\n",
    "import time\n",
    "\n",
    "# Translate text using Google Translate API\n",
    "def translate_text(text):\n",
    "    translator = Translator()\n",
    "    translated_text = translator.translate(text, dest='en').text\n",
    "    return translated_text\n",
    "\n",
    "# File path to the Excel file\n",
    "file_path = 'Order Export.xls'  \n",
    "\n",
    "# Start the timer\n",
    "start_time = time.time()\n",
    "\n",
    "# Read the existing file\n",
    "df = pd.read_excel(file_path, header=None)\n",
    "\n",
    "# Translate all text, including headers, to English\n",
    "df_translated = df.apply(lambda x: x.map(translate_text))\n",
    "\n",
    "\n",
    "# Save the translated DataFrame to a new Excel file\n",
    "output_file = 'Translated_Order_Sheet.xlsx'\n",
    "df_translated.to_excel(output_file, index=False, header=False)\n",
    "\n",
    "# Stop the timer, calculate elapsed time, and print\n",
    "end_time = time.time()\n",
    "elapsed_time = end_time - start_time\n",
    "print(f\"Translation and saving completed in {elapsed_time:.2f} seconds.\")\n"
   ]
  },
  {
   "cell_type": "code",
   "execution_count": null,
   "id": "dc2ce98f",
   "metadata": {},
   "outputs": [],
   "source": []
  }
 ],
 "metadata": {
  "kernelspec": {
   "display_name": "Python 3 (ipykernel)",
   "language": "python",
   "name": "python3"
  },
  "language_info": {
   "codemirror_mode": {
    "name": "ipython",
    "version": 3
   },
   "file_extension": ".py",
   "mimetype": "text/x-python",
   "name": "python",
   "nbconvert_exporter": "python",
   "pygments_lexer": "ipython3",
   "version": "3.9.0"
  }
 },
 "nbformat": 4,
 "nbformat_minor": 5
}
